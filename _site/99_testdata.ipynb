{
 "cells": [
  {
   "cell_type": "code",
   "execution_count": null,
   "metadata": {},
   "outputs": [],
   "source": [
    "# default_exp testdata"
   ]
  },
  {
   "cell_type": "code",
   "execution_count": null,
   "metadata": {},
   "outputs": [],
   "source": [
    "#hide\n",
    "%load_ext autoreload\n",
    "%autoreload 2"
   ]
  },
  {
   "cell_type": "markdown",
   "metadata": {},
   "source": [
    "# Test data loaders"
   ]
  },
  {
   "cell_type": "markdown",
   "metadata": {},
   "source": [
    "These functions load test data located in the files folder. The test data is used throughout the notebooks to test and demonstrate the use of the functions."
   ]
  },
  {
   "cell_type": "code",
   "execution_count": null,
   "metadata": {},
   "outputs": [],
   "source": [
    "#export\n",
    "import numpy as np\n",
    "import pickle\n",
    "from os.path import join\n",
    "import matplotlib.pyplot as plt\n",
    "\n",
    "from theonerig.core import import_record\n",
    "\n",
    "\n",
    "def load_vivo_2p(testdata_dir):\n",
    "    \"\"\"Use as locals().update(load_vivo_2p()) to load test calcium data (will change soon)\n",
    "    \"\"\"\n",
    "    vivo_2p_dir = testdata_dir\n",
    "    reM = import_record(join(vivo_2p_dir, \"record_master.h5\"))\n",
    "    stim_d = {\"0_darkness\": np.load(join(vivo_2p_dir,\"0_darkness.npy\")),\n",
    "             \"38786_checkerboard\": np.load(join(vivo_2p_dir,\"38786_checkerboard.npy\")),\n",
    "             \"82376_water\": np.load(join(vivo_2p_dir,\"82376_water.npy\")),\n",
    "             \"126646_moving_gratings\": np.load(join(vivo_2p_dir,\"126646_moving_gratings.npy\")),\n",
    "             \"174837_chirp_am\": np.load(join(vivo_2p_dir,\"174837_chirp_am.npy\")),\n",
    "             \"195136_chirp_freq_epoch\": np.load(join(vivo_2p_dir,\"195136_chirp_freq_epoch.npy\")),\n",
    "             \"213925_fullfield_flicker\": np.load(join(vivo_2p_dir,\"213925_fullfield_flicker.npy\"))}\n",
    "    S_matrix = np.load(join(vivo_2p_dir, \"cells_spike_matrix.npy\"))\n",
    "    A_matrix = np.load(join(vivo_2p_dir, \"cells_spatial_matrix.npy\"))\n",
    "    eye_TP   = np.load(join(vivo_2p_dir, \"eyevid_frame_timepoints.npy\"))\n",
    "    eye_DATA = np.load(join(vivo_2p_dir, \"eyevid_pupil_data.npy\"))\n",
    "    proj_TP  = np.load(join(vivo_2p_dir, \"projector_frame_timepoints.npy\"))\n",
    "    proj_DATA= np.load(join(vivo_2p_dir, \"projector_frame_data.npy\"))\n",
    "    treadm_DATA= np.load(join(vivo_2p_dir, \"treadmill_data.npy\"))\n",
    "    len_records = np.load(join(vivo_2p_dir, \"record_lengths.npy\"))\n",
    "    with open(join(vivo_2p_dir, \"twoP_frame_timepoints.pkl\"), mode=\"rb\") as f:\n",
    "        rec_TP = pickle.load(f)\n",
    "    print(\"Returning stim_d, S_matrix, A_matrix, proj_TP, proj_DATA, eye_TP, eye_DATA, treadm_DATA, len_records, rec_TP, reM\")\n",
    "    return locals()"
   ]
  },
  {
   "cell_type": "code",
   "execution_count": null,
   "metadata": {},
   "outputs": [
    {
     "name": "stdout",
     "output_type": "stream",
     "text": [
      "Converted 00_core.ipynb.\n",
      "Converted 01_utils.ipynb.\n",
      "Converted 02_processing.ipynb.\n",
      "Converted 03_modelling.ipynb.\n",
      "Converted 04_plotting.ipynb.\n",
      "Converted 99_testdata.ipynb.\n",
      "Converted index.ipynb.\n"
     ]
    }
   ],
   "source": [
    "from nbdev.export import *\n",
    "notebook2script()"
   ]
  }
 ],
 "metadata": {
  "kernelspec": {
   "display_name": "Python 3",
   "language": "python",
   "name": "python3"
  }
 },
 "nbformat": 4,
 "nbformat_minor": 2
}
