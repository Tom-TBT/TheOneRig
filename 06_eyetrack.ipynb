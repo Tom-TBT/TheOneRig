{
 "cells": [
  {
   "cell_type": "code",
   "execution_count": null,
   "id": "emerging-zimbabwe",
   "metadata": {},
   "outputs": [],
   "source": [
    "# default_exp eyetrack"
   ]
  },
  {
   "cell_type": "code",
   "execution_count": null,
   "id": "known-vertical",
   "metadata": {},
   "outputs": [],
   "source": [
    "#hide\n",
    "%load_ext autoreload\n",
    "%autoreload 2\n",
    "from nbdev.test import test_eq\n",
    "from nbdev.showdoc import *"
   ]
  },
  {
   "cell_type": "markdown",
   "id": "available-accessory",
   "metadata": {},
   "source": [
    "# Eye tracking \n",
    "> Ensemble of functions aimed to compensate for the mouse eye motions"
   ]
  },
  {
   "cell_type": "code",
   "execution_count": null,
   "id": "marked-calendar",
   "metadata": {},
   "outputs": [],
   "source": [
    "#export\n",
    "import numpy as np\n",
    "import scipy.interpolate as interpolate\n",
    "from sklearn import cluster"
   ]
  },
  {
   "cell_type": "code",
   "execution_count": null,
   "id": "administrative-graduation",
   "metadata": {},
   "outputs": [],
   "source": [
    "#export\n",
    "def interpolate_screen_pos(screen_pos, xnew, ynew, kind='linear'):\n",
    "    \"\"\"\n",
    "    Interpolate the position of the xnew and ynew pixels from the original screen_pos.\n",
    "    `interpolate_checker_pos` should be used instead as it's more user friendly.\n",
    "    params:\n",
    "        - screen_pos: Screen positions in shape (17, 10, 2) obtained from calibration (from 80x80 pixel checker corners on a 1280x720px screen)\n",
    "        - xnew: New pixels indexes in x, in interval [0, 16[\n",
    "        - ynew: New pixels indexes in y, in interval [0, 9[\n",
    "    return:\n",
    "        - Screen positions in shape (len(xnew),len(ynew), 2)\n",
    "    \"\"\"\n",
    "    f = interpolate.interp2d(np.arange(17), np.arange(10), screen_pos[:,:,0].T, kind=kind)\n",
    "    znew_x = f(xnew, ynew)\n",
    "\n",
    "    f = interpolate.interp2d(np.arange(17), np.arange(10), screen_pos[:,:,1].T, kind=kind)\n",
    "    znew_y = f(xnew, ynew)\n",
    "\n",
    "    return np.stack((znew_x, znew_y), axis=-1)\n",
    "\n",
    "def interpolate_checker_pos(screen_pos, width_box, height_box, kind='linear'):\n",
    "    \"\"\"\n",
    "    Interpolate the centre of the checkerboard pixels from the screen calibrated position.\n",
    "    params:\n",
    "        - screen_pos: Screen positions in shape (16, 9, 2) obtained from calibration (from 80x80 pixel checker corners on a 1280x720px screen)\n",
    "        - width_box: Width in pixel of a box\n",
    "        - height_box: Height in pixel of a box\n",
    "    \"\"\"\n",
    "    assert 1280%width_box==0, \"unpredictable behaviour if 1280 is not a multiple of width_box\"\n",
    "    assert 720%height_box==0, \"unpredictable behaviour if 720 is not a multiple of height_box\"\n",
    "    n_x = 1280/width_box\n",
    "    n_y = 720/height_box\n",
    "    xnew = np.arange(16/n_x/2, 16+16/n_x/2, 16/n_x)\n",
    "    ynew = np.arange(9/n_y/2, 9+9/n_y/2, 9/n_y)\n",
    "    return interpolate_screen_pos(screen_pos, xnew, ynew, kind=kind)"
   ]
  },
  {
   "cell_type": "code",
   "execution_count": null,
   "id": "corporate-insert",
   "metadata": {},
   "outputs": [],
   "source": [
    "#export\n",
    "def split_eye_events(eye_tracking, eps=2):\n",
    "    \"\"\"\n",
    "    Split the record where the eye moves. Detection done with clustering on X,Y and time of the eye position.\n",
    "    \n",
    "    params:\n",
    "        - eye_tracking: Eye traking array of the ellipse fit, in shape (t, (x,y,width,height,angle))\n",
    "        - eps: Distance to detect eye movements. Adjust this parameter if results are not satisfying\n",
    "    return:\n",
    "        - move_indexes, blink_indexes, noise_indexes\n",
    "    \"\"\"    \n",
    "    x_pos    = np.array(eye_tracking[:,0])\n",
    "    \n",
    "    X        = np.stack((x_pos, np.linspace(0, len(x_pos), len(x_pos))*.5)).T\n",
    "    clusters = cluster.dbscan(X, eps=eps, min_samples=5, metric='minkowski', p=2)\n",
    "    move_indexes = np.where(clusters[1][1:] > clusters[1][:-1])[0] + 1\n",
    "    \n",
    "    noise_indexes = np.where(clusters[1] == -1)[0]\n",
    "    blink_indexes = np.where(x_pos == 0)[0]\n",
    "\n",
    "    return move_indexes, blink_indexes, noise_indexes"
   ]
  },
  {
   "cell_type": "code",
   "execution_count": null,
   "id": "thousand-bachelor",
   "metadata": {},
   "outputs": [
    {
     "name": "stdout",
     "output_type": "stream",
     "text": [
      "Converted 00_core.ipynb.\n",
      "Converted 01_utils.ipynb.\n",
      "Converted 02_processing.ipynb.\n",
      "Converted 03_modelling.ipynb.\n",
      "Converted 04_plotting.ipynb.\n",
      "Converted 05_database.ipynb.\n",
      "Converted 06_eyetrack.ipynb.\n",
      "Converted 10_synchro.io.ipynb.\n",
      "Converted 11_synchro.extracting.ipynb.\n",
      "Converted 12_synchro.processing.ipynb.\n",
      "Converted 13_leddome.ipynb.\n",
      "Converted 99_testdata.ipynb.\n",
      "Converted index.ipynb.\n"
     ]
    }
   ],
   "source": [
    "#hide\n",
    "from nbdev.export import *\n",
    "notebook2script()"
   ]
  }
 ],
 "metadata": {
  "kernelspec": {
   "display_name": "Python 3",
   "language": "python",
   "name": "python3"
  }
 },
 "nbformat": 4,
 "nbformat_minor": 5
}
